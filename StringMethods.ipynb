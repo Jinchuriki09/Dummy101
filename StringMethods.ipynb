{
  "nbformat": 4,
  "nbformat_minor": 0,
  "metadata": {
    "colab": {
      "name": "StringMethods.ipynb",
      "provenance": [],
      "authorship_tag": "ABX9TyMxHbTz0oeGczZI/reOt1AW",
      "include_colab_link": true
    },
    "kernelspec": {
      "name": "python3",
      "display_name": "Python 3"
    },
    "language_info": {
      "name": "python"
    }
  },
  "cells": [
    {
      "cell_type": "markdown",
      "metadata": {
        "id": "view-in-github",
        "colab_type": "text"
      },
      "source": [
        "<a href=\"https://colab.research.google.com/github/Jinchuriki09/Dummy101/blob/main/StringMethods.ipynb\" target=\"_parent\"><img src=\"https://colab.research.google.com/assets/colab-badge.svg\" alt=\"Open In Colab\"/></a>"
      ]
    },
    {
      "cell_type": "code",
      "execution_count": 1,
      "metadata": {
        "colab": {
          "base_uri": "https://localhost:8080/"
        },
        "id": "3alhvHSZGTSk",
        "outputId": "9b55feb3-cab5-4b5f-b8a1-1a53cd1806f1"
      },
      "outputs": [
        {
          "output_type": "stream",
          "name": "stdout",
          "text": [
            "she said \"Never let go\".\n"
          ]
        }
      ],
      "source": [
        "# Escaping Characters Backslashes (\\) are used to escape characters in a Python string.\n",
        "txt = \"she said \\\"Never let go\\\".\"\n",
        "print(txt)"
      ]
    },
    {
      "cell_type": "code",
      "source": [
        "# The in syntax The in syntax is used to determine if a letter or a substring exists in a string. It returns True if a match is found, otherwise False is returned\n",
        "game = \"popular nintendo game: mario kart\"\n",
        "print(\"r\" in game)\n",
        "print(\"b\" in game)"
      ],
      "metadata": {
        "colab": {
          "base_uri": "https://localhost:8080/"
        },
        "id": "srhi-s6KGgGs",
        "outputId": "c963704f-c9aa-4a91-ba54-aaa3de121c50"
      },
      "execution_count": 3,
      "outputs": [
        {
          "output_type": "stream",
          "name": "stdout",
          "text": [
            "True\n",
            "False\n"
          ]
        }
      ]
    },
    {
      "cell_type": "code",
      "source": [
        "# Indexing and slicing\n",
        "str = 'yellow' # single quotes for string data type\n",
        "str[1]"
      ],
      "metadata": {
        "colab": {
          "base_uri": "https://localhost:8080/",
          "height": 35
        },
        "id": "r3STzQKXGgKG",
        "outputId": "54a091c6-bfbf-4aba-b5f0-04be21fcdfcd"
      },
      "execution_count": 6,
      "outputs": [
        {
          "output_type": "execute_result",
          "data": {
            "text/plain": [
              "'e'"
            ],
            "application/vnd.google.colaboratory.intrinsic+json": {
              "type": "string"
            }
          },
          "metadata": {},
          "execution_count": 6
        }
      ]
    },
    {
      "cell_type": "code",
      "source": [
        "str[-4:]"
      ],
      "metadata": {
        "colab": {
          "base_uri": "https://localhost:8080/",
          "height": 35
        },
        "id": "tTgW85xbKnQA",
        "outputId": "20777131-cf6b-4d4f-f706-624c057efe2d"
      },
      "execution_count": 7,
      "outputs": [
        {
          "output_type": "execute_result",
          "data": {
            "text/plain": [
              "'llow'"
            ],
            "application/vnd.google.colaboratory.intrinsic+json": {
              "type": "string"
            }
          },
          "metadata": {},
          "execution_count": 7
        }
      ]
    },
    {
      "cell_type": "code",
      "source": [
        "str[-1]"
      ],
      "metadata": {
        "colab": {
          "base_uri": "https://localhost:8080/",
          "height": 35
        },
        "id": "Db6TvnBJGgUC",
        "outputId": "288efd0b-578f-44a6-88dd-df4b4f3c1e9b"
      },
      "execution_count": 8,
      "outputs": [
        {
          "output_type": "execute_result",
          "data": {
            "text/plain": [
              "'w'"
            ],
            "application/vnd.google.colaboratory.intrinsic+json": {
              "type": "string"
            }
          },
          "metadata": {},
          "execution_count": 8
        }
      ]
    },
    {
      "cell_type": "code",
      "source": [
        "str[4:6]"
      ],
      "metadata": {
        "colab": {
          "base_uri": "https://localhost:8080/",
          "height": 35
        },
        "id": "DXLjwBYzGgXD",
        "outputId": "10a8399e-2ed8-483c-e192-4cfb4f7e00f9"
      },
      "execution_count": 9,
      "outputs": [
        {
          "output_type": "execute_result",
          "data": {
            "text/plain": [
              "'ow'"
            ],
            "application/vnd.google.colaboratory.intrinsic+json": {
              "type": "string"
            }
          },
          "metadata": {},
          "execution_count": 9
        }
      ]
    },
    {
      "cell_type": "code",
      "source": [
        "str[:5]"
      ],
      "metadata": {
        "colab": {
          "base_uri": "https://localhost:8080/",
          "height": 35
        },
        "id": "CD5JvhQcGgaX",
        "outputId": "0dc21178-5eb9-4471-cb5f-bb7004055a96"
      },
      "execution_count": 10,
      "outputs": [
        {
          "output_type": "execute_result",
          "data": {
            "text/plain": [
              "'yello'"
            ],
            "application/vnd.google.colaboratory.intrinsic+json": {
              "type": "string"
            }
          },
          "metadata": {},
          "execution_count": 10
        }
      ]
    },
    {
      "cell_type": "code",
      "source": [
        "# iterate string\n",
        "for i in str:\n",
        "  print(i)"
      ],
      "metadata": {
        "colab": {
          "base_uri": "https://localhost:8080/"
        },
        "id": "7ZgkQ7DZK07O",
        "outputId": "d755d6d1-180d-4cf2-fe3f-7130f731078e"
      },
      "execution_count": 11,
      "outputs": [
        {
          "output_type": "stream",
          "name": "stdout",
          "text": [
            "y\n",
            "e\n",
            "l\n",
            "l\n",
            "o\n",
            "w\n"
          ]
        }
      ]
    },
    {
      "cell_type": "code",
      "source": [
        "#built-in function len()\n",
        "length = len(\"hello\")\n",
        "print(length)"
      ],
      "metadata": {
        "colab": {
          "base_uri": "https://localhost:8080/"
        },
        "id": "tffY8LNbK1GD",
        "outputId": "3ba517c7-e237-473d-dc0c-f973c4ad0ec2"
      },
      "execution_count": 12,
      "outputs": [
        {
          "output_type": "stream",
          "name": "stdout",
          "text": [
            "5\n"
          ]
        }
      ]
    },
    {
      "cell_type": "code",
      "source": [
        "colors = ['red','yellow','green']\n",
        "print(len(colors))"
      ],
      "metadata": {
        "colab": {
          "base_uri": "https://localhost:8080/"
        },
        "id": "FvlGX1nqK1Pe",
        "outputId": "6a607632-bc14-45f1-fbcf-aba2b866cb70"
      },
      "execution_count": 13,
      "outputs": [
        {
          "output_type": "stream",
          "name": "stdout",
          "text": [
            "3\n"
          ]
        }
      ]
    },
    {
      "cell_type": "code",
      "source": [
        "#Immutable strings\n"
      ],
      "metadata": {
        "id": "sp8TspnSK1X9"
      },
      "execution_count": null,
      "outputs": []
    },
    {
      "cell_type": "markdown",
      "source": [
        "Immutable strings\n",
        "Strings are immutable in Python. This means that once a string has been defined, it can’t be changed.There are no mutating methods for strings. This is unlike data types like lists, which can be modified once they are created.\n",
        "\n"
      ],
      "metadata": {
        "id": "BLxHZyWYTOYg"
      }
    },
    {
      "cell_type": "code",
      "source": [
        "# Index error\n",
        "fruit = \"Berry\"\n",
        "indx = fruit[6]"
      ],
      "metadata": {
        "colab": {
          "base_uri": "https://localhost:8080/",
          "height": 200
        },
        "id": "6zYA-K9hK1d6",
        "outputId": "4c043b06-87fd-42dc-d345-4f5fa0fcb4c4"
      },
      "execution_count": 14,
      "outputs": [
        {
          "output_type": "error",
          "ename": "IndexError",
          "evalue": "ignored",
          "traceback": [
            "\u001b[0;31m---------------------------------------------------------------------------\u001b[0m",
            "\u001b[0;31mIndexError\u001b[0m                                Traceback (most recent call last)",
            "\u001b[0;32m<ipython-input-14-77d161222f69>\u001b[0m in \u001b[0;36m<module>\u001b[0;34m()\u001b[0m\n\u001b[1;32m      1\u001b[0m \u001b[0;31m# Index error\u001b[0m\u001b[0;34m\u001b[0m\u001b[0;34m\u001b[0m\u001b[0;34m\u001b[0m\u001b[0m\n\u001b[1;32m      2\u001b[0m \u001b[0mfruit\u001b[0m \u001b[0;34m=\u001b[0m \u001b[0;34m\"Berry\"\u001b[0m\u001b[0;34m\u001b[0m\u001b[0;34m\u001b[0m\u001b[0m\n\u001b[0;32m----> 3\u001b[0;31m \u001b[0mindx\u001b[0m \u001b[0;34m=\u001b[0m \u001b[0mfruit\u001b[0m\u001b[0;34m[\u001b[0m\u001b[0;36m6\u001b[0m\u001b[0;34m]\u001b[0m\u001b[0;34m\u001b[0m\u001b[0;34m\u001b[0m\u001b[0m\n\u001b[0m",
            "\u001b[0;31mIndexError\u001b[0m: string index out of range"
          ]
        }
      ]
    },
    {
      "cell_type": "code",
      "source": [
        "#Python String .format()\n",
        "msg1 = 'Fred scored {} out of {} points.'\n",
        "msg1.format(3, 10) # directly displays the variable"
      ],
      "metadata": {
        "colab": {
          "base_uri": "https://localhost:8080/",
          "height": 35
        },
        "id": "xORglkxgK1hP",
        "outputId": "1a1eccb0-7178-4e41-b6f5-b3c310ce36b4"
      },
      "execution_count": 15,
      "outputs": [
        {
          "output_type": "execute_result",
          "data": {
            "text/plain": [
              "'Fred scored 3 out of 10 points.'"
            ],
            "application/vnd.google.colaboratory.intrinsic+json": {
              "type": "string"
            }
          },
          "metadata": {},
          "execution_count": 15
        }
      ]
    },
    {
      "cell_type": "markdown",
      "source": [
        "The Python string method .format() replaces empty brace ({}) placeholders in the string with its arguments.\n",
        "\n",
        "If keywords are specified within the placeholders, they are replaced with the corresponding named arguments to the method."
      ],
      "metadata": {
        "id": "P1WXQm8QT5AI"
      }
    },
    {
      "cell_type": "code",
      "source": [
        "msg2 = 'Fred {verb} a {adjective} {noun}.'\n",
        "msg2.format(adjective= 'fluffy', verb= 'tickled', noun= 'hamster')"
      ],
      "metadata": {
        "colab": {
          "base_uri": "https://localhost:8080/",
          "height": 35
        },
        "id": "T3Em9D0AK1o2",
        "outputId": "9f0d132a-a79b-4767-d6ff-0ac6f20b7b20"
      },
      "execution_count": 16,
      "outputs": [
        {
          "output_type": "execute_result",
          "data": {
            "text/plain": [
              "'Fred tickled a fluffy hamster.'"
            ],
            "application/vnd.google.colaboratory.intrinsic+json": {
              "type": "string"
            }
          },
          "metadata": {},
          "execution_count": 16
        }
      ]
    },
    {
      "cell_type": "code",
      "source": [
        "#String Method .lower()\n",
        "greeting = \" Welcome to CHILLIS\"\n",
        "print(greeting.lower())\n",
        "print(greeting.lower())"
      ],
      "metadata": {
        "colab": {
          "base_uri": "https://localhost:8080/"
        },
        "id": "6i_-3AebK1sG",
        "outputId": "179d91aa-5217-4095-ffdf-f4a1fafc34e3"
      },
      "execution_count": 20,
      "outputs": [
        {
          "output_type": "stream",
          "name": "stdout",
          "text": [
            " welcome to chillis\n",
            " welcome to chillis\n"
          ]
        }
      ]
    },
    {
      "cell_type": "markdown",
      "source": [
        "The string method .lower() returns a string with all uppercase characters converted into lowercase."
      ],
      "metadata": {
        "id": "hxLAxfNHVPAi"
      }
    },
    {
      "cell_type": "code",
      "source": [
        "#String Method .strip()\n",
        "text1 = 'apples and oranges'\n",
        "text2 = '...+... lemons and limes...-...'\n",
        "text1.strip()"
      ],
      "metadata": {
        "colab": {
          "base_uri": "https://localhost:8080/",
          "height": 35
        },
        "id": "i0FibsNxK1vZ",
        "outputId": "e8c81a8b-c00a-4c8c-ea83-631a56ef2de7"
      },
      "execution_count": 21,
      "outputs": [
        {
          "output_type": "execute_result",
          "data": {
            "text/plain": [
              "'apples and oranges'"
            ],
            "application/vnd.google.colaboratory.intrinsic+json": {
              "type": "string"
            }
          },
          "metadata": {},
          "execution_count": 21
        }
      ]
    },
    {
      "cell_type": "markdown",
      "source": [
        "The string method .strip() can be used to remove characters from the beginning and end of a string.\n",
        "\n",
        "A string argument can be passed to the method, specifying the set of characters to be stripped. With no arguments to the method, whitespace is removed."
      ],
      "metadata": {
        "id": "EWEEEhxMWDcw"
      }
    },
    {
      "cell_type": "code",
      "source": [
        "\n",
        "text2.strip('.+')"
      ],
      "metadata": {
        "colab": {
          "base_uri": "https://localhost:8080/",
          "height": 35
        },
        "id": "au1P0wJrW7BF",
        "outputId": "80bcd7ac-948a-4e6d-d498-a36196b32c37"
      },
      "execution_count": 23,
      "outputs": [
        {
          "output_type": "execute_result",
          "data": {
            "text/plain": [
              "' lemons and limes...-'"
            ],
            "application/vnd.google.colaboratory.intrinsic+json": {
              "type": "string"
            }
          },
          "metadata": {},
          "execution_count": 23
        }
      ]
    },
    {
      "cell_type": "code",
      "source": [
        "text2.strip('.')"
      ],
      "metadata": {
        "colab": {
          "base_uri": "https://localhost:8080/",
          "height": 35
        },
        "id": "g1pdKWHlW69p",
        "outputId": "2e476d28-8d7b-4faf-9deb-d27b9071e757"
      },
      "execution_count": 24,
      "outputs": [
        {
          "output_type": "execute_result",
          "data": {
            "text/plain": [
              "'+... lemons and limes...-'"
            ],
            "application/vnd.google.colaboratory.intrinsic+json": {
              "type": "string"
            }
          },
          "metadata": {},
          "execution_count": 24
        }
      ]
    },
    {
      "cell_type": "code",
      "source": [
        "text2.strip('.+-')"
      ],
      "metadata": {
        "colab": {
          "base_uri": "https://localhost:8080/",
          "height": 35
        },
        "id": "EW5yHCCCW661",
        "outputId": "72044ef4-52c9-4ddf-b19d-9e842252db8c"
      },
      "execution_count": 25,
      "outputs": [
        {
          "output_type": "execute_result",
          "data": {
            "text/plain": [
              "' lemons and limes'"
            ],
            "application/vnd.google.colaboratory.intrinsic+json": {
              "type": "string"
            }
          },
          "metadata": {},
          "execution_count": 25
        }
      ]
    },
    {
      "cell_type": "code",
      "source": [
        "# String Method .title()\n",
        "my_var = \"dark knight\"\n",
        "print(my_var.title())"
      ],
      "metadata": {
        "colab": {
          "base_uri": "https://localhost:8080/"
        },
        "id": "3Ezt_8qDW64v",
        "outputId": "e89d754d-084a-41fa-ddbb-40915108f9da"
      },
      "execution_count": 26,
      "outputs": [
        {
          "output_type": "stream",
          "name": "stdout",
          "text": [
            "Dark Knight\n"
          ]
        }
      ]
    },
    {
      "cell_type": "markdown",
      "source": [
        "The string method .title() returns the string in title case. With title case, the first character of each word is capitalized while the rest of the characters are lowercase."
      ],
      "metadata": {
        "id": "Dg8bJ6NmXzeC"
      }
    },
    {
      "cell_type": "code",
      "source": [
        "# String Method .split()\n",
        "text = \"Sillicon Valley\"\n",
        "print(text.split())"
      ],
      "metadata": {
        "colab": {
          "base_uri": "https://localhost:8080/"
        },
        "id": "9DGHM5DwXuIf",
        "outputId": "1c0e700c-62aa-4cb9-b898-5e51955aaf29"
      },
      "execution_count": 27,
      "outputs": [
        {
          "output_type": "stream",
          "name": "stdout",
          "text": [
            "['Sillicon', 'Valley']\n"
          ]
        }
      ]
    },
    {
      "cell_type": "markdown",
      "source": [
        "The string method .split() splits a string into a list of items:\n",
        "\n",
        "If no argument is passed, the default behavior is to split on whitespace.\n",
        "If an argument is passed to the method, that value is used as the delimiter on which to split the string."
      ],
      "metadata": {
        "id": "NqH461uQYSO4"
      }
    },
    {
      "cell_type": "code",
      "source": [
        "text.split()"
      ],
      "metadata": {
        "colab": {
          "base_uri": "https://localhost:8080/"
        },
        "id": "ntKWXgC6W61z",
        "outputId": "ee981d91-4632-4826-9f53-8e0dce3b2140"
      },
      "execution_count": 28,
      "outputs": [
        {
          "output_type": "execute_result",
          "data": {
            "text/plain": [
              "['Sillicon', 'Valley']"
            ]
          },
          "metadata": {},
          "execution_count": 28
        }
      ]
    },
    {
      "cell_type": "code",
      "source": [
        "print(text.split('i'))"
      ],
      "metadata": {
        "colab": {
          "base_uri": "https://localhost:8080/"
        },
        "id": "SGIu99q5W6yt",
        "outputId": "a9da4385-c726-4cc9-cb86-2da8b227e6f5"
      },
      "execution_count": 29,
      "outputs": [
        {
          "output_type": "stream",
          "name": "stdout",
          "text": [
            "['S', 'll', 'con Valley']\n"
          ]
        }
      ]
    },
    {
      "cell_type": "code",
      "source": [
        "text.split('l')"
      ],
      "metadata": {
        "colab": {
          "base_uri": "https://localhost:8080/"
        },
        "id": "wSc8Yoq9W6v0",
        "outputId": "51b34fcd-6120-4e47-9e1f-6200caa95e3f"
      },
      "execution_count": 30,
      "outputs": [
        {
          "output_type": "execute_result",
          "data": {
            "text/plain": [
              "['Si', '', 'icon Va', '', 'ey']"
            ]
          },
          "metadata": {},
          "execution_count": 30
        }
      ]
    },
    {
      "cell_type": "code",
      "source": [
        "# Python string method .find()\n",
        "mount_name = \"Mountain Kilimanjaro\"\n",
        "print(mount_name.find(\"o\"))"
      ],
      "metadata": {
        "colab": {
          "base_uri": "https://localhost:8080/"
        },
        "id": "1x-WAfIrW6tL",
        "outputId": "3e2d668c-2246-4e03-e80d-ff8f50cbccc8"
      },
      "execution_count": 32,
      "outputs": [
        {
          "output_type": "stream",
          "name": "stdout",
          "text": [
            "1\n"
          ]
        }
      ]
    },
    {
      "cell_type": "markdown",
      "source": [
        "The Python string method .find() returns the index of the first occurrence of the string passed as the argument. It returns -1 if no occurrence is found."
      ],
      "metadata": {
        "id": "UK7gatMJe1Uw"
      }
    },
    {
      "cell_type": "code",
      "source": [
        "#String replace\n",
        "fruit = \"Strawberry\"\n",
        "print(fruit.replace('r', 'l'))"
      ],
      "metadata": {
        "colab": {
          "base_uri": "https://localhost:8080/"
        },
        "id": "OqCsBQDoW6qM",
        "outputId": "33628fc5-7a43-4e05-d07a-cce0042a8dc8"
      },
      "execution_count": 33,
      "outputs": [
        {
          "output_type": "stream",
          "name": "stdout",
          "text": [
            "Stlawbelly\n"
          ]
        }
      ]
    },
    {
      "cell_type": "markdown",
      "source": [
        "The .replace() method is used to replace the occurence of the first argument with the second argument within the string.\n",
        "\n",
        "The first argument is the old substring to be replaced, and the second argument is the new substring that will replace every occurence of the first one within the string."
      ],
      "metadata": {
        "id": "DzZOSYsxfhXH"
      }
    },
    {
      "cell_type": "code",
      "source": [
        "#String Method .upper()\n",
        "dinosaur = \"T-Rexes\"\n",
        "dinosaur.upper()"
      ],
      "metadata": {
        "colab": {
          "base_uri": "https://localhost:8080/",
          "height": 35
        },
        "id": "qgG8nncUW6nV",
        "outputId": "32c5d877-b0a3-496e-e61b-5d0efb99be65"
      },
      "execution_count": 34,
      "outputs": [
        {
          "output_type": "execute_result",
          "data": {
            "text/plain": [
              "'T-REXES'"
            ],
            "application/vnd.google.colaboratory.intrinsic+json": {
              "type": "string"
            }
          },
          "metadata": {},
          "execution_count": 34
        }
      ]
    },
    {
      "cell_type": "markdown",
      "source": [
        "The string method .upper() returns the string with all lowercase characters converted to uppercase"
      ],
      "metadata": {
        "id": "VP9hbrEihmac"
      }
    },
    {
      "cell_type": "code",
      "source": [
        "#String Method .join()\n",
        "f = \"+\".join(dinosaur, fruit)\n",
        "print(f)"
      ],
      "metadata": {
        "colab": {
          "base_uri": "https://localhost:8080/",
          "height": 200
        },
        "id": "IKFt9QFhW6kr",
        "outputId": "25ee6c27-fcdd-4351-80fa-ff74e57a27f1"
      },
      "execution_count": 35,
      "outputs": [
        {
          "output_type": "error",
          "ename": "TypeError",
          "evalue": "ignored",
          "traceback": [
            "\u001b[0;31m---------------------------------------------------------------------------\u001b[0m",
            "\u001b[0;31mTypeError\u001b[0m                                 Traceback (most recent call last)",
            "\u001b[0;32m<ipython-input-35-fc602a05d1c2>\u001b[0m in \u001b[0;36m<module>\u001b[0;34m()\u001b[0m\n\u001b[1;32m      1\u001b[0m \u001b[0;31m#String Method .join()\u001b[0m\u001b[0;34m\u001b[0m\u001b[0;34m\u001b[0m\u001b[0;34m\u001b[0m\u001b[0m\n\u001b[0;32m----> 2\u001b[0;31m \u001b[0mf\u001b[0m \u001b[0;34m=\u001b[0m \u001b[0;34m\"+\"\u001b[0m\u001b[0;34m.\u001b[0m\u001b[0mjoin\u001b[0m\u001b[0;34m(\u001b[0m\u001b[0mdinosaur\u001b[0m\u001b[0;34m,\u001b[0m \u001b[0mfruit\u001b[0m\u001b[0;34m)\u001b[0m\u001b[0;34m\u001b[0m\u001b[0;34m\u001b[0m\u001b[0m\n\u001b[0m\u001b[1;32m      3\u001b[0m \u001b[0mprint\u001b[0m\u001b[0;34m(\u001b[0m\u001b[0mf\u001b[0m\u001b[0;34m)\u001b[0m\u001b[0;34m\u001b[0m\u001b[0;34m\u001b[0m\u001b[0m\n",
            "\u001b[0;31mTypeError\u001b[0m: join() takes exactly one argument (2 given)"
          ]
        }
      ]
    },
    {
      "cell_type": "markdown",
      "source": [
        "The string method .join() concatenates a list of strings together to create a new string joined with the desired delimiter.\n",
        "\n",
        "The .join() method is run on the delimiter and the array of strings to be concatenated together is passed in as an argument."
      ],
      "metadata": {
        "id": "-QXwojbXiDLy"
      }
    },
    {
      "cell_type": "code",
      "source": [
        "f = \"+\".join([\"dinosaur\", \"fruit\"])\n",
        "print(f)"
      ],
      "metadata": {
        "colab": {
          "base_uri": "https://localhost:8080/"
        },
        "id": "KjnCfmE8W6hN",
        "outputId": "17a68ac5-cc6d-436f-8cb0-171fab0702dd"
      },
      "execution_count": 1,
      "outputs": [
        {
          "output_type": "stream",
          "name": "stdout",
          "text": [
            "dinosaur+fruit\n"
          ]
        }
      ]
    },
    {
      "cell_type": "code",
      "source": [
        ""
      ],
      "metadata": {
        "id": "_V6gfNMrW6eT"
      },
      "execution_count": null,
      "outputs": []
    },
    {
      "cell_type": "code",
      "source": [
        ""
      ],
      "metadata": {
        "id": "DcIeHaD_W6bR"
      },
      "execution_count": null,
      "outputs": []
    },
    {
      "cell_type": "code",
      "source": [
        ""
      ],
      "metadata": {
        "id": "SAnoDchqW6Yh"
      },
      "execution_count": null,
      "outputs": []
    },
    {
      "cell_type": "code",
      "source": [
        ""
      ],
      "metadata": {
        "id": "PnQC96c1W6Vn"
      },
      "execution_count": null,
      "outputs": []
    },
    {
      "cell_type": "code",
      "source": [
        ""
      ],
      "metadata": {
        "id": "NiVLYAviW6Sj"
      },
      "execution_count": null,
      "outputs": []
    },
    {
      "cell_type": "code",
      "source": [
        ""
      ],
      "metadata": {
        "id": "xt_Mb3YyW6P0"
      },
      "execution_count": null,
      "outputs": []
    }
  ]
}