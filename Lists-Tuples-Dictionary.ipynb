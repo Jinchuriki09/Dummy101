{
  "nbformat": 4,
  "nbformat_minor": 0,
  "metadata": {
    "colab": {
      "name": "Untitled1.ipynb",
      "provenance": [],
      "authorship_tag": "ABX9TyMLkEH9tN4ytjM4oB22K/Z/",
      "include_colab_link": true
    },
    "kernelspec": {
      "name": "python3",
      "display_name": "Python 3"
    },
    "language_info": {
      "name": "python"
    }
  },
  "cells": [
    {
      "cell_type": "markdown",
      "metadata": {
        "id": "view-in-github",
        "colab_type": "text"
      },
      "source": [
        "<a href=\"https://colab.research.google.com/github/Jinchuriki09/Dummy101/blob/main/Lists-Tuples-Dictionary.ipynb\" target=\"_parent\"><img src=\"https://colab.research.google.com/assets/colab-badge.svg\" alt=\"Open In Colab\"/></a>"
      ]
    },
    {
      "cell_type": "code",
      "execution_count": 1,
      "metadata": {
        "colab": {
          "base_uri": "https://localhost:8080/"
        },
        "id": "dPXWjQIXc8yb",
        "outputId": "806b1b97-acd8-4c4b-c365-aa0a0374ae16"
      },
      "outputs": [
        {
          "output_type": "stream",
          "name": "stdout",
          "text": [
            "['Brush', 'Leuven', 48780863345, 3.14, 'mom']\n"
          ]
        }
      ],
      "source": [
        "# List a sequence of things\n",
        "A = [\"Brush\",\"Leuven\", 48780863345, 3.14,\"mom\"]\n",
        "print(A)"
      ]
    }
  ]
}